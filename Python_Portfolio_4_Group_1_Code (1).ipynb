{
  "nbformat": 4,
  "nbformat_minor": 0,
  "metadata": {
    "colab": {
      "name": "Python Portfolio 4_Group 1_Code.ipynb",
      "provenance": [],
      "collapsed_sections": []
    },
    "kernelspec": {
      "name": "python3",
      "display_name": "Python 3"
    },
    "language_info": {
      "name": "python"
    }
  },
  "cells": [
    {
      "cell_type": "markdown",
      "source": [
        "**FOR**\n",
        "\n",
        "For loops are used for sequential traversal. For example: traversing a list or string or array etc. In Python, there is no C style for loop, i.e., for (i=0; i<n; i++). There is “for in” loop which is similar to for each loop in other languages. "
      ],
      "metadata": {
        "id": "cDDSZq1HBIjo"
      }
    },
    {
      "cell_type": "code",
      "source": [
        "#Example 1 with string\n",
        "\n",
        "for i in \"Home\":\n",
        "  print(i)"
      ],
      "metadata": {
        "id": "9uAXRJ1AUJYR",
        "colab": {
          "base_uri": "https://localhost:8080/"
        },
        "outputId": "4bd4c1a7-26c0-4852-e56f-4120653c3416"
      },
      "execution_count": null,
      "outputs": [
        {
          "output_type": "stream",
          "name": "stdout",
          "text": [
            "H\n",
            "o\n",
            "m\n",
            "e\n"
          ]
        }
      ]
    },
    {
      "cell_type": "code",
      "source": [
        "#Example 2 with variable\n",
        "name = \"John\"\n",
        "\n",
        "for i in name:\n",
        "  print(i)"
      ],
      "metadata": {
        "colab": {
          "base_uri": "https://localhost:8080/"
        },
        "id": "lScIfmcCBja2",
        "outputId": "eea55d92-4731-4210-92f9-74742f0db67c"
      },
      "execution_count": null,
      "outputs": [
        {
          "output_type": "stream",
          "name": "stdout",
          "text": [
            "J\n",
            "o\n",
            "h\n",
            "n\n"
          ]
        }
      ]
    },
    {
      "cell_type": "code",
      "source": [
        "#Example 3 with range\n",
        "n = 5\n",
        "\n",
        "for i in range(2, n):\n",
        "  print(i)"
      ],
      "metadata": {
        "colab": {
          "base_uri": "https://localhost:8080/"
        },
        "id": "WXrmLY3NBxWU",
        "outputId": "3127b91a-5571-456f-f4f6-79eed5ad3e75"
      },
      "execution_count": null,
      "outputs": [
        {
          "output_type": "stream",
          "name": "stdout",
          "text": [
            "2\n",
            "3\n",
            "4\n"
          ]
        }
      ]
    },
    {
      "cell_type": "code",
      "source": [
        "#Example 4 with list\n",
        "stream = ['Disney', 'Netflix', 'iQIYI', 'Viu']\n",
        "\n",
        "print(\"Streaming platform:\")\n",
        "for i in stream:\n",
        "  print(i)"
      ],
      "metadata": {
        "colab": {
          "base_uri": "https://localhost:8080/"
        },
        "id": "Ig0Ekf8RCJQu",
        "outputId": "0f8b1960-2160-4cff-e56c-7b85224181b5"
      },
      "execution_count": null,
      "outputs": [
        {
          "output_type": "stream",
          "name": "stdout",
          "text": [
            "Streaming platform:\n",
            "Disney\n",
            "Netflix\n",
            "iQIYI\n",
            "Viu\n"
          ]
        }
      ]
    },
    {
      "cell_type": "markdown",
      "source": [
        "**Iterating by the index of sequence**\n",
        "\n",
        "We can also use the index of elements in the sequence to iterate. The key idea is to first calculate the length of the list and in iterate over the sequence within the range of this length."
      ],
      "metadata": {
        "id": "J0ZwZyQZJ6oJ"
      }
    },
    {
      "cell_type": "code",
      "source": [
        "colors = ['red', 'blue', 'yellow', 'green']\n",
        "\n",
        "for index in range(len(colors)):\n",
        "  print(colors[index])"
      ],
      "metadata": {
        "colab": {
          "base_uri": "https://localhost:8080/"
        },
        "id": "UARoGb17KArV",
        "outputId": "f68af9cd-ac1a-4468-a936-d869fecfb116"
      },
      "execution_count": null,
      "outputs": [
        {
          "output_type": "stream",
          "name": "stdout",
          "text": [
            "red\n",
            "blue\n",
            "yellow\n",
            "green\n"
          ]
        }
      ]
    },
    {
      "cell_type": "markdown",
      "source": [
        "**WHILE**\n",
        "\n",
        "In python, while loop is used to execute a block of statements repeatedly until a given condition is satisfied. And when the condition becomes false, the line immediately after the loop in the program is executed.\n",
        "\n",
        "All the statements indented by the same number of character spaces after a programming construct are considered to be part of a single block of code. Python uses indentation as its method of grouping statements."
      ],
      "metadata": {
        "id": "oMt91nK8BO3c"
      }
    },
    {
      "cell_type": "code",
      "source": [
        "#Example 1 \n",
        "start = 1\n",
        "\n",
        "while (start <= 3):\n",
        "  print(start,\"Hello World\")\n",
        "  start += 1"
      ],
      "metadata": {
        "colab": {
          "base_uri": "https://localhost:8080/"
        },
        "id": "K_S9WDrFLQQ7",
        "outputId": "855275f7-75df-481f-8632-42e41502925c"
      },
      "execution_count": null,
      "outputs": [
        {
          "output_type": "stream",
          "name": "stdout",
          "text": [
            "1 Hello World\n",
            "2 Hello World\n",
            "3 Hello World\n"
          ]
        }
      ]
    },
    {
      "cell_type": "code",
      "source": [
        "#Example 2 with input\n",
        "x = int(input(\"enter a number: \"))\n",
        "\n",
        "while (x > 0):\n",
        "  print(\"count down...\", x)\n",
        "  x -= 1\n",
        "print(\"Go!\")"
      ],
      "metadata": {
        "colab": {
          "base_uri": "https://localhost:8080/"
        },
        "id": "ahDgXL4fMDAy",
        "outputId": "4034a5cc-3c8c-4685-b9a4-55e4c903e9cd"
      },
      "execution_count": null,
      "outputs": [
        {
          "output_type": "stream",
          "name": "stdout",
          "text": [
            "enter a number: 3\n",
            "count down... 3\n",
            "count down... 2\n",
            "count down... 1\n",
            "Go!\n"
          ]
        }
      ]
    },
    {
      "cell_type": "markdown",
      "source": [
        "**Nested Loops**\n",
        "\n",
        "Python programming language allows to use one loop inside another loop. Following section shows few examples to illustrate the concept. "
      ],
      "metadata": {
        "id": "LS2aXsK5L1hc"
      }
    },
    {
      "cell_type": "code",
      "source": [
        "#Nested for example\n",
        "\n",
        "for i in range(1,4):\n",
        "  for j in range(i):\n",
        "    print(i, end = ' ')\n",
        "  print()"
      ],
      "metadata": {
        "colab": {
          "base_uri": "https://localhost:8080/"
        },
        "id": "YUs1gwT1OCny",
        "outputId": "00632259-3f0d-442d-8b9f-08bcaab0841e"
      },
      "execution_count": null,
      "outputs": [
        {
          "output_type": "stream",
          "name": "stdout",
          "text": [
            "1 \n",
            "2 2 \n",
            "3 3 3 \n"
          ]
        }
      ]
    },
    {
      "cell_type": "code",
      "source": [
        "#Nested while example\n",
        "i = 0\n",
        "j = 0\n",
        "ob = ['rainy', 'summer']\n",
        "\n",
        "while (i <= 2):\n",
        "  while (j <= 1):\n",
        "    print(i+1, j+1, ob[j])\n",
        "    j += 1\n",
        "  j = 0\n",
        "  i += 1"
      ],
      "metadata": {
        "colab": {
          "base_uri": "https://localhost:8080/"
        },
        "id": "uFALpT45OfAL",
        "outputId": "0a829c74-7b9a-4ce5-b676-0e8691c163bd"
      },
      "execution_count": null,
      "outputs": [
        {
          "output_type": "stream",
          "name": "stdout",
          "text": [
            "1 1 rainy\n",
            "1 2 summer\n",
            "2 1 rainy\n",
            "2 2 summer\n",
            "3 1 rainy\n",
            "3 2 summer\n"
          ]
        }
      ]
    },
    {
      "cell_type": "markdown",
      "source": [
        "**Loop Control Statement**\n",
        "\n",
        "Loop control statements change execution from its normal sequence. When execution leaves a scope, all automatic objects that were created in that scope are destroyed. Python supports the following control statements.\n",
        "1. Break Statement\n",
        "2. Continue Statement\n",
        "3. Pass Statement"
      ],
      "metadata": {
        "id": "8VNV59H0ULWP"
      }
    },
    {
      "cell_type": "markdown",
      "source": [
        "**Break**\n",
        "\n",
        "Break brings control out of loop"
      ],
      "metadata": {
        "id": "laFIk3EfUYKj"
      }
    },
    {
      "cell_type": "code",
      "source": [
        "for i in \"Indonesia\":\n",
        "  if i == \"e\":\n",
        "    break\n",
        "  print(i, end = \"\")"
      ],
      "metadata": {
        "colab": {
          "base_uri": "https://localhost:8080/"
        },
        "id": "rUZ8pzyWUfDM",
        "outputId": "10cf4d0a-f409-4671-d7fd-81d104a95bf2"
      },
      "execution_count": null,
      "outputs": [
        {
          "output_type": "stream",
          "name": "stdout",
          "text": [
            "Indon"
          ]
        }
      ]
    },
    {
      "cell_type": "markdown",
      "source": [
        "**Continue**\n",
        "\n",
        "Continue returns the control to the beginning of the loop"
      ],
      "metadata": {
        "id": "j6l7KbueVMiq"
      }
    },
    {
      "cell_type": "code",
      "source": [
        "for i in \"Himalaya\":\n",
        "  if i == \"a\":\n",
        "    continue\n",
        "  print(i, end = \"\")"
      ],
      "metadata": {
        "colab": {
          "base_uri": "https://localhost:8080/"
        },
        "id": "EPR1oQVLVUiB",
        "outputId": "1caab56e-2f3d-410d-d565-f36570677d73"
      },
      "execution_count": null,
      "outputs": [
        {
          "output_type": "stream",
          "name": "stdout",
          "text": [
            "Himly"
          ]
        }
      ]
    },
    {
      "cell_type": "markdown",
      "source": [
        "# Else For Loops"
      ],
      "metadata": {
        "id": "v07gQjNxAIaG"
      }
    },
    {
      "cell_type": "markdown",
      "source": [
        "##Else After For"
      ],
      "metadata": {
        "id": "MdOIc15GAhmv"
      }
    },
    {
      "cell_type": "markdown",
      "source": [
        "In Python, the else function is also known after for. The function is prioritized on the loop\n",
        "search - to provide program exits when search is not\n",
        "found"
      ],
      "metadata": {
        "id": "s88RFd1QYac5"
      }
    },
    {
      "cell_type": "markdown",
      "source": [
        "For loops also have an else clause which most of us are unfamiliar with. The else clause executes after the loop completes normally. This means that the loop did not encounter a break statement. \n",
        "\n",
        "The common construct is to run a loop and search for an item. If the item is found, we break out of the loop using the break statement. There are two scenarios in which the loop may end. The first one is when the item is found and break is encountered. The second scenario is that the loop ends without encountering a break statement."
      ],
      "metadata": {
        "id": "UW1Z6Gm9Zf12"
      }
    },
    {
      "cell_type": "code",
      "source": [
        "#This is the basic structure of a for/else loop:\n",
        "\n",
        "for item in container:\n",
        "    if search_something(item):\n",
        "        # Found it!\n",
        "        process(item)\n",
        "        break\n",
        "else:\n",
        "    # Didn't find anything..\n",
        "    not_found_in_container()"
      ],
      "metadata": {
        "id": "Zl8YYqIpZkuv"
      },
      "execution_count": null,
      "outputs": []
    },
    {
      "cell_type": "code",
      "source": [
        "for x in range(200,300):\n",
        "    if x % 25 == 0 :\n",
        "        print(\"{} is even\".format(x))\n",
        "        break\n",
        "    else:\n",
        "        print(\"{} isn't even\".format(x))"
      ],
      "metadata": {
        "colab": {
          "base_uri": "https://localhost:8080/"
        },
        "id": "lion32h8ajb3",
        "outputId": "cc99be15-a687-4e72-ffaa-cfd9cd538dc1"
      },
      "execution_count": null,
      "outputs": [
        {
          "output_type": "stream",
          "name": "stdout",
          "text": [
            "200 is even\n"
          ]
        }
      ]
    },
    {
      "cell_type": "code",
      "source": [
        "for x in range(200,300):\n",
        "    if x % 25 == 0 :\n",
        "        print(\"{} is even\".format(x))\n",
        "        continue"
      ],
      "metadata": {
        "colab": {
          "base_uri": "https://localhost:8080/"
        },
        "id": "1Iu8d4nneXYg",
        "outputId": "2419781d-0cab-4f25-a7f3-7f8bae071f75"
      },
      "execution_count": null,
      "outputs": [
        {
          "output_type": "stream",
          "name": "stdout",
          "text": [
            "200 is even\n",
            "225 is even\n",
            "250 is even\n",
            "275 is even\n"
          ]
        }
      ]
    },
    {
      "cell_type": "markdown",
      "source": [
        "## Else After While"
      ],
      "metadata": {
        "id": "G0m8gCC6f49S"
      }
    },
    {
      "cell_type": "markdown",
      "source": [
        "In the while statement, the else statement block will always be\n",
        "executed when the condition in while becomes false.\n",
        "\n",
        "With the else statement we can run a block of code once when the condition no longer is true."
      ],
      "metadata": {
        "id": "bkNRAWh9gx1J"
      }
    },
    {
      "cell_type": "code",
      "source": [
        "point = int(input())\n",
        "\n",
        "while (point <= 25):\n",
        "    point = point * 2\n",
        "    if point == 50:\n",
        "        break\n",
        "    print(point)\n",
        "else:\n",
        "    print(\"loop selesai\")\n",
        "    "
      ],
      "metadata": {
        "colab": {
          "base_uri": "https://localhost:8080/"
        },
        "id": "dAPIpgLPS9_e",
        "outputId": "0d833cf9-21d8-40a4-ab99-8a4a2aa1cf43"
      },
      "execution_count": null,
      "outputs": [
        {
          "output_type": "stream",
          "name": "stdout",
          "text": [
            "2\n",
            "4\n",
            "8\n",
            "16\n",
            "32\n",
            "loop selesai\n"
          ]
        }
      ]
    },
    {
      "cell_type": "code",
      "source": [
        "point = int(input())\n",
        "\n",
        "while (point <= 25):\n",
        "    point = point * 2\n",
        "    if point == 50:\n",
        "      print(point)\n",
        "else:\n",
        "    print(\"loop selesai\")"
      ],
      "metadata": {
        "colab": {
          "base_uri": "https://localhost:8080/"
        },
        "id": "PMj6Fha1TCiB",
        "outputId": "caa4b6d9-9d69-4b9c-dae5-c9598ddb1358"
      },
      "execution_count": null,
      "outputs": [
        {
          "output_type": "stream",
          "name": "stdout",
          "text": [
            "2\n",
            "loop selesai\n"
          ]
        }
      ]
    },
    {
      "cell_type": "code",
      "source": [
        ""
      ],
      "metadata": {
        "id": "qoAHHPyyUJ25"
      },
      "execution_count": null,
      "outputs": []
    },
    {
      "cell_type": "markdown",
      "source": [
        "PASS\n",
        "\n",
        "This function is used to skip an iteration of the loop because in loop empty code is not allowed. So when there is pass statement, there will be nothing happens, but it will skip the error while there is empty code"
      ],
      "metadata": {
        "id": "pQNHiad0hbL1"
      }
    },
    {
      "cell_type": "code",
      "source": [
        "\n",
        "print('Even number between 1-7')\n",
        "for x in range(1,7):\n",
        "    if x % 2 == 1:\n",
        "        pass\n",
        "        #this statement will pass odd number\n",
        "    else:\n",
        "        print(x)"
      ],
      "metadata": {
        "colab": {
          "base_uri": "https://localhost:8080/"
        },
        "id": "L1mhLIE8wvwe",
        "outputId": "a7498c30-8112-4463-d5f0-d120f1e92129"
      },
      "execution_count": null,
      "outputs": [
        {
          "output_type": "stream",
          "name": "stdout",
          "text": [
            "Even number between 1-7\n",
            "2\n",
            "4\n",
            "6\n"
          ]
        }
      ]
    },
    {
      "cell_type": "code",
      "source": [
        "#without pass\n",
        "\n",
        "n=\"\"\n",
        "while(n!=\"exit\"):\n",
        "  n = (input(\"peroleh:\"))\n",
        "  print(\"dapat angka {}\".format(int(n)))\n",
        "\n",
        "#error if put string in input"
      ],
      "metadata": {
        "id": "-tMC-P38hcv4",
        "colab": {
          "base_uri": "https://localhost:8080/",
          "height": 287
        },
        "outputId": "41d1aad5-1887-499e-862a-2ef1bbda4eac"
      },
      "execution_count": null,
      "outputs": [
        {
          "name": "stdout",
          "output_type": "stream",
          "text": [
            "peroleh:12\n",
            "dapat angka 12\n",
            "peroleh:sass\n"
          ]
        },
        {
          "output_type": "error",
          "ename": "ValueError",
          "evalue": "ignored",
          "traceback": [
            "\u001b[0;31m---------------------------------------------------------------------------\u001b[0m",
            "\u001b[0;31mValueError\u001b[0m                                Traceback (most recent call last)",
            "\u001b[0;32m<ipython-input-11-9a4d1b8ce48c>\u001b[0m in \u001b[0;36m<module>\u001b[0;34m()\u001b[0m\n\u001b[1;32m      4\u001b[0m \u001b[0;32mwhile\u001b[0m\u001b[0;34m(\u001b[0m\u001b[0mn\u001b[0m\u001b[0;34m!=\u001b[0m\u001b[0;34m\"exit\"\u001b[0m\u001b[0;34m)\u001b[0m\u001b[0;34m:\u001b[0m\u001b[0;34m\u001b[0m\u001b[0;34m\u001b[0m\u001b[0m\n\u001b[1;32m      5\u001b[0m   \u001b[0mn\u001b[0m \u001b[0;34m=\u001b[0m \u001b[0;34m(\u001b[0m\u001b[0minput\u001b[0m\u001b[0;34m(\u001b[0m\u001b[0;34m\"peroleh:\"\u001b[0m\u001b[0;34m)\u001b[0m\u001b[0;34m)\u001b[0m\u001b[0;34m\u001b[0m\u001b[0;34m\u001b[0m\u001b[0m\n\u001b[0;32m----> 6\u001b[0;31m   \u001b[0mprint\u001b[0m\u001b[0;34m(\u001b[0m\u001b[0;34m\"dapat angka {}\"\u001b[0m\u001b[0;34m.\u001b[0m\u001b[0mformat\u001b[0m\u001b[0;34m(\u001b[0m\u001b[0mint\u001b[0m\u001b[0;34m(\u001b[0m\u001b[0mn\u001b[0m\u001b[0;34m)\u001b[0m\u001b[0;34m)\u001b[0m\u001b[0;34m)\u001b[0m\u001b[0;34m\u001b[0m\u001b[0;34m\u001b[0m\u001b[0m\n\u001b[0m\u001b[1;32m      7\u001b[0m \u001b[0;34m\u001b[0m\u001b[0m\n\u001b[1;32m      8\u001b[0m \u001b[0;31m#error if put string in input\u001b[0m\u001b[0;34m\u001b[0m\u001b[0;34m\u001b[0m\u001b[0;34m\u001b[0m\u001b[0m\n",
            "\u001b[0;31mValueError\u001b[0m: invalid literal for int() with base 10: 'sass'"
          ]
        }
      ]
    },
    {
      "cell_type": "code",
      "source": [
        "#with pass\n",
        "\n",
        "import sys\n",
        "n=\"\"\n",
        "while(n!=\"exit\"):\n",
        "  try:\n",
        "    n=(input(\"peroleh:\"))\n",
        "    print(\"dapat angka{}\".format(int(n)))\n",
        "  except:\n",
        "    if n==\"exit\":\n",
        "      pass\n",
        "    else:\n",
        "      print(\"error{}\".format(sys.exc_info()[0]))\n",
        "\n",
        "#if there is a string in input, program will not stop but will give an error code"
      ],
      "metadata": {
        "id": "_NpBBqqjv3nf",
        "colab": {
          "base_uri": "https://localhost:8080/"
        },
        "outputId": "ed24f80f-7396-4ade-d5a4-0145dde65309"
      },
      "execution_count": null,
      "outputs": [
        {
          "name": "stdout",
          "output_type": "stream",
          "text": [
            "peroleh:12\n",
            "dapat angka12\n",
            "peroleh:sass\n",
            "error<class 'ValueError'>\n",
            "peroleh:exit\n"
          ]
        }
      ]
    },
    {
      "cell_type": "markdown",
      "source": [
        "LIST COMPREHENSION\n",
        "\n",
        "Making list from inline loop and if"
      ],
      "metadata": {
        "id": "_NT-yhN10cnT"
      }
    },
    {
      "cell_type": "code",
      "source": [
        "ang=[2,3,4]\n",
        "#filled list\n",
        "\n",
        "cube=[]\n",
        "#empty list\n",
        "\n",
        "for i in ang:\n",
        "  cube.append(i**3)\n",
        "print(cube)\n",
        "#fill the cube list from ang list multiplied by three"
      ],
      "metadata": {
        "colab": {
          "base_uri": "https://localhost:8080/"
        },
        "id": "u3KXRgp50qsI",
        "outputId": "46b7bf25-8764-4e88-f1ae-d0e7d62d0a8b"
      },
      "execution_count": null,
      "outputs": [
        {
          "output_type": "stream",
          "name": "stdout",
          "text": [
            "[8, 27, 64]\n"
          ]
        }
      ]
    },
    {
      "cell_type": "markdown",
      "source": [
        "Writing in another way\n",
        "\n",
        "new_list = [expression for_loop_one_or_more conditions]"
      ],
      "metadata": {
        "id": "UW2x_AbJtbJf"
      }
    },
    {
      "cell_type": "markdown",
      "source": [
        "Not only for one list"
      ],
      "metadata": {
        "id": "aF3VK06mRc0p"
      }
    },
    {
      "cell_type": "code",
      "source": [
        "# Example (2 list)\n",
        "color1=['red','yellow','green','black']\n",
        "color2=['purple','blue','white','yellow']\n",
        "\n",
        "duplicate = []\n",
        "\n",
        "for i in color1:\n",
        "    for j in color2:\n",
        "      if i == j:\n",
        "          duplicate.append(i)\n",
        "print(duplicate)\n",
        "    "
      ],
      "metadata": {
        "colab": {
          "base_uri": "https://localhost:8080/"
        },
        "id": "N9Xxqr8XuVII",
        "outputId": "52280c3b-250b-4e99-d48f-c72ebd39d9b0"
      },
      "execution_count": null,
      "outputs": [
        {
          "output_type": "stream",
          "name": "stdout",
          "text": [
            "['yellow']\n"
          ]
        }
      ]
    },
    {
      "cell_type": "code",
      "source": [
        "color1=['red','yellow','green','black']\n",
        "color2=['purple','blue','white','yellow']\n",
        "\n",
        "duplicate = [i for i in color1 for j in color2 if i == j]\n",
        "\n",
        "print(duplicate)"
      ],
      "metadata": {
        "colab": {
          "base_uri": "https://localhost:8080/"
        },
        "id": "Tg6bImtkSIWk",
        "outputId": "3b1956f4-f259-4267-8e0c-258ccf7cd5df"
      },
      "execution_count": null,
      "outputs": [
        {
          "output_type": "stream",
          "name": "stdout",
          "text": [
            "['yellow']\n"
          ]
        }
      ]
    },
    {
      "cell_type": "code",
      "source": [
        "city = [\"saint\",\"petersburg\"]\n",
        "\n",
        "upper = [_.upper() for _ in city]\n",
        "\n",
        "print(upper)"
      ],
      "metadata": {
        "colab": {
          "base_uri": "https://localhost:8080/"
        },
        "id": "edusIZg8ydxw",
        "outputId": "f02ef74d-025e-4fdf-c6c8-0b19aebd7def"
      },
      "execution_count": null,
      "outputs": [
        {
          "output_type": "stream",
          "name": "stdout",
          "text": [
            "['SAINT', 'PETERSBURG']\n"
          ]
        }
      ]
    },
    {
      "cell_type": "code",
      "source": [
        "city = [\"saint\",\"petersburg\"]\n",
        "\n",
        "proper = [_.title() for _ in city]\n",
        "\n",
        "print(proper)"
      ],
      "metadata": {
        "colab": {
          "base_uri": "https://localhost:8080/"
        },
        "id": "_aRrphSsaJzE",
        "outputId": "cbe6ab53-6209-4639-bb3e-e918c1cedfea"
      },
      "execution_count": null,
      "outputs": [
        {
          "output_type": "stream",
          "name": "stdout",
          "text": [
            "['Saint', 'Petersburg']\n"
          ]
        }
      ]
    },
    {
      "cell_type": "code",
      "source": [
        "city = [\"saint\",\"petersburg\"]\n",
        "\n",
        "proper=[]\n",
        "\n",
        "for i in city:\n",
        "  proper.append(i.title())\n",
        "print(proper)"
      ],
      "metadata": {
        "colab": {
          "base_uri": "https://localhost:8080/"
        },
        "id": "V1G4oTpda_-2",
        "outputId": "25f4af1a-5630-482e-96c0-69ba5b27147c"
      },
      "execution_count": null,
      "outputs": [
        {
          "output_type": "stream",
          "name": "stdout",
          "text": [
            "['Saint', 'Petersburg']\n"
          ]
        }
      ]
    },
    {
      "cell_type": "markdown",
      "source": [
        "\n",
        "\n",
        "\n",
        "\n",
        "* Underscore includes valid variable naming\n",
        "\n",
        "* In general \"_\" is used as a throwaway variable (unimportant variable)\n",
        "\n",
        "\n"
      ],
      "metadata": {
        "id": "9VAbDQe4yySq"
      }
    },
    {
      "cell_type": "code",
      "source": [
        "# Expression can be more than one\n",
        "number = range(4,10,2)\n",
        "division_addition = [[_/2,_+4] for _ in number]\n",
        "print(division_addition)"
      ],
      "metadata": {
        "colab": {
          "base_uri": "https://localhost:8080/"
        },
        "id": "6JX1gcwT2DA1",
        "outputId": "1c4f4994-1934-4601-8dc0-308f9a5438d3"
      },
      "execution_count": null,
      "outputs": [
        {
          "output_type": "stream",
          "name": "stdout",
          "text": [
            "[[2.0, 8], [3.0, 10], [4.0, 12]]\n"
          ]
        }
      ]
    },
    {
      "cell_type": "code",
      "source": [
        "for i in range(4,10,2):\n",
        "  print(i)"
      ],
      "metadata": {
        "colab": {
          "base_uri": "https://localhost:8080/"
        },
        "id": "Sd3LZfB92UGn",
        "outputId": "db40c2de-207d-426f-911a-e4c03e487017"
      },
      "execution_count": null,
      "outputs": [
        {
          "output_type": "stream",
          "name": "stdout",
          "text": [
            "4\n",
            "6\n",
            "8\n"
          ]
        }
      ]
    },
    {
      "cell_type": "code",
      "source": [
        "numerator = range(1, 5)\n",
        "divider = range(1, 5)\n",
        "\n",
        "list = []\n",
        "\n",
        "for x in numerator:\n",
        "  for y in divider:\n",
        "    if x//y == 1 and x%y ==1:\n",
        "      list.append([x, y])\n",
        "print(list)\n"
      ],
      "metadata": {
        "colab": {
          "base_uri": "https://localhost:8080/"
        },
        "id": "yPZbXkU06eFp",
        "outputId": "28d4a129-80dc-4747-9b1d-4c77b3d2529e"
      },
      "execution_count": null,
      "outputs": [
        {
          "output_type": "stream",
          "name": "stdout",
          "text": [
            "[[3, 2], [4, 3]]\n"
          ]
        }
      ]
    },
    {
      "cell_type": "markdown",
      "source": [
        "Error and Exeption Handling\n",
        "\n",
        "Two types of errors based on their occurrence:\n",
        "\n",
        "1. Syntax errors\n",
        "2. Exceptions"
      ],
      "metadata": {
        "id": "643wIGRCtHpy"
      }
    },
    {
      "cell_type": "markdown",
      "source": [
        "Syntax Error\n",
        "\n",
        "Syntax error occurs when python can't understand what you're commanding\n",
        "\n",
        "Some most common causes of syntax errors:\n",
        "* Misspelled reserved keywords\n",
        "* Missing required spaces\n",
        "* Missing quotes\n",
        "* Misuse of block statements (if-else, loops)\n",
        "* Missing assignment operator (=)\n",
        "* Invalid variables declaration\n",
        "* Invalid function calling or defining\n",
        "\n",
        "\n",
        "\n",
        "\n",
        "\n"
      ],
      "metadata": {
        "id": "T4uo-MVX_75f"
      }
    },
    {
      "cell_type": "markdown",
      "source": [
        "Example, inappropriate indentation (space at the beginning)"
      ],
      "metadata": {
        "id": "pKukPv7u_U0M"
      }
    },
    {
      "cell_type": "code",
      "source": [
        "for i in \"data\":\n",
        "print(i)"
      ],
      "metadata": {
        "colab": {
          "base_uri": "https://localhost:8080/",
          "height": 131
        },
        "id": "YzmAcpzcAKQO",
        "outputId": "837ea5f3-a968-4bea-f434-63788f3f3bf8"
      },
      "execution_count": null,
      "outputs": [
        {
          "output_type": "error",
          "ename": "IndentationError",
          "evalue": "ignored",
          "traceback": [
            "\u001b[0;36m  File \u001b[0;32m\"<ipython-input-6-1e1450808eb9>\"\u001b[0;36m, line \u001b[0;32m2\u001b[0m\n\u001b[0;31m    print(i)\u001b[0m\n\u001b[0m        ^\u001b[0m\n\u001b[0;31mIndentationError\u001b[0m\u001b[0;31m:\u001b[0m expected an indented block\n"
          ]
        }
      ]
    },
    {
      "cell_type": "markdown",
      "source": [
        "Example, the condition of the command to be required to exist (:)"
      ],
      "metadata": {
        "id": "U1oSXrCwAXwS"
      }
    },
    {
      "cell_type": "code",
      "source": [
        "for i in \"data\"\n",
        "    print(i)"
      ],
      "metadata": {
        "colab": {
          "base_uri": "https://localhost:8080/",
          "height": 131
        },
        "id": "roAtL8keBgWK",
        "outputId": "327fe08b-ce38-404c-b22e-9f2951eb8c17"
      },
      "execution_count": null,
      "outputs": [
        {
          "output_type": "error",
          "ename": "SyntaxError",
          "evalue": "ignored",
          "traceback": [
            "\u001b[0;36m  File \u001b[0;32m\"<ipython-input-7-6dbc54d7373d>\"\u001b[0;36m, line \u001b[0;32m1\u001b[0m\n\u001b[0;31m    for i in \"data\"\u001b[0m\n\u001b[0m                   ^\u001b[0m\n\u001b[0;31mSyntaxError\u001b[0m\u001b[0;31m:\u001b[0m invalid syntax\n"
          ]
        }
      ]
    },
    {
      "cell_type": "markdown",
      "source": [
        "# **Exception**"
      ],
      "metadata": {
        "id": "sguzsn6KC8SZ"
      }
    },
    {
      "cell_type": "markdown",
      "source": [
        "Exception are also called Runtime errors\n",
        "\n",
        "* Even if we have written a statement or expression from python correctly, there is a possibility that an error will occur when the command is executed\n",
        "* Errors that occur while the process is in progress are called exceptions and can be fatal if not handled\n",
        "\n",
        "\n",
        "* Most exceptions in python are not handled by the application, so the application crashes and then an error message appears\n",
        "\n",
        "\n",
        "\n"
      ],
      "metadata": {
        "id": "kC7_tyMMC54-"
      }
    },
    {
      "cell_type": "code",
      "source": [
        "# runtime error\n",
        "print(name)"
      ],
      "metadata": {
        "colab": {
          "base_uri": "https://localhost:8080/",
          "height": 190
        },
        "id": "B79WYJaoD0vZ",
        "outputId": "207ea0e4-e595-41f4-efb2-91d2555c5ed9"
      },
      "execution_count": null,
      "outputs": [
        {
          "output_type": "error",
          "ename": "NameError",
          "evalue": "ignored",
          "traceback": [
            "\u001b[0;31m---------------------------------------------------------------------------\u001b[0m",
            "\u001b[0;31mNameError\u001b[0m                                 Traceback (most recent call last)",
            "\u001b[0;32m<ipython-input-6-02b9cf678be1>\u001b[0m in \u001b[0;36m<module>\u001b[0;34m()\u001b[0m\n\u001b[1;32m      1\u001b[0m \u001b[0;31m# runtime error\u001b[0m\u001b[0;34m\u001b[0m\u001b[0;34m\u001b[0m\u001b[0;34m\u001b[0m\u001b[0m\n\u001b[0;32m----> 2\u001b[0;31m \u001b[0mprint\u001b[0m\u001b[0;34m(\u001b[0m\u001b[0mname\u001b[0m\u001b[0;34m)\u001b[0m\u001b[0;34m\u001b[0m\u001b[0;34m\u001b[0m\u001b[0m\n\u001b[0m",
            "\u001b[0;31mNameError\u001b[0m: name 'name' is not defined"
          ]
        }
      ]
    },
    {
      "cell_type": "markdown",
      "source": [
        "variable of type string is operated with a number (type integer)"
      ],
      "metadata": {
        "id": "2uhKK0OAEChE"
      }
    },
    {
      "cell_type": "code",
      "execution_count": null,
      "metadata": {
        "id": "dTD0PCL0CwQ9"
      },
      "outputs": [],
      "source": [
        "# Logical error\n",
        "pertama=\"1\""
      ]
    },
    {
      "cell_type": "code",
      "source": [
        "pertama + 2"
      ],
      "metadata": {
        "colab": {
          "base_uri": "https://localhost:8080/",
          "height": 166
        },
        "id": "NYphYMxCEOWd",
        "outputId": "5e82f616-9c22-4514-c5f9-7b4f5c43a565"
      },
      "execution_count": null,
      "outputs": [
        {
          "output_type": "error",
          "ename": "TypeError",
          "evalue": "ignored",
          "traceback": [
            "\u001b[0;31m---------------------------------------------------------------------------\u001b[0m",
            "\u001b[0;31mTypeError\u001b[0m                                 Traceback (most recent call last)",
            "\u001b[0;32m<ipython-input-3-922fc7054f01>\u001b[0m in \u001b[0;36m<module>\u001b[0;34m()\u001b[0m\n\u001b[0;32m----> 1\u001b[0;31m \u001b[0mpertama\u001b[0m \u001b[0;34m+\u001b[0m \u001b[0;36m2\u001b[0m\u001b[0;34m\u001b[0m\u001b[0;34m\u001b[0m\u001b[0m\n\u001b[0m",
            "\u001b[0;31mTypeError\u001b[0m: can only concatenate str (not \"int\") to str"
          ]
        }
      ]
    },
    {
      "cell_type": "markdown",
      "source": [
        "in arithmetic (the division is evaluated before addition) the program will not give the correct answer:\n"
      ],
      "metadata": {
        "id": "jTD2ukjqzqIG"
      }
    },
    {
      "cell_type": "code",
      "source": [
        "# Logical error\n",
        "x = float(input('enter number : '))\n",
        "y = float(input('enter number : '))\n",
        "\n",
        "z = x+y/3\n",
        "print(z)"
      ],
      "metadata": {
        "colab": {
          "base_uri": "https://localhost:8080/"
        },
        "id": "MLRzGncMWdRQ",
        "outputId": "793d767c-636c-4021-866e-02988cb40cc3"
      },
      "execution_count": null,
      "outputs": [
        {
          "output_type": "stream",
          "name": "stdout",
          "text": [
            "enter number : 9\n",
            "enter number : 3\n",
            "10.0\n"
          ]
        }
      ]
    },
    {
      "cell_type": "code",
      "source": [
        "# runtime error\n",
        "a = [1,2,3,4]\n",
        "print(b)"
      ],
      "metadata": {
        "colab": {
          "base_uri": "https://localhost:8080/",
          "height": 182
        },
        "id": "oS3QeARqFvHx",
        "outputId": "af6b1564-8ec8-4cdb-bdc7-10d3047d0dc7"
      },
      "execution_count": null,
      "outputs": [
        {
          "output_type": "error",
          "ename": "NameError",
          "evalue": "ignored",
          "traceback": [
            "\u001b[0;31m---------------------------------------------------------------------------\u001b[0m",
            "\u001b[0;31mNameError\u001b[0m                                 Traceback (most recent call last)",
            "\u001b[0;32m<ipython-input-4-1e2c8f0ade00>\u001b[0m in \u001b[0;36m<module>\u001b[0;34m()\u001b[0m\n\u001b[1;32m      1\u001b[0m \u001b[0ma\u001b[0m\u001b[0;34m=\u001b[0m\u001b[0;34m[\u001b[0m\u001b[0;36m1\u001b[0m\u001b[0;34m,\u001b[0m\u001b[0;36m2\u001b[0m\u001b[0;34m,\u001b[0m\u001b[0;36m3\u001b[0m\u001b[0;34m,\u001b[0m\u001b[0;36m4\u001b[0m\u001b[0;34m]\u001b[0m\u001b[0;34m\u001b[0m\u001b[0;34m\u001b[0m\u001b[0m\n\u001b[0;32m----> 2\u001b[0;31m \u001b[0mprint\u001b[0m\u001b[0;34m(\u001b[0m\u001b[0mb\u001b[0m\u001b[0;34m)\u001b[0m\u001b[0;34m\u001b[0m\u001b[0;34m\u001b[0m\u001b[0m\n\u001b[0m",
            "\u001b[0;31mNameError\u001b[0m: name 'b' is not defined"
          ]
        }
      ]
    },
    {
      "cell_type": "code",
      "source": [
        "# runtime error\n",
        "name = brand [1]"
      ],
      "metadata": {
        "colab": {
          "base_uri": "https://localhost:8080/",
          "height": 190
        },
        "id": "kDMGHUyZi04y",
        "outputId": "fadc2222-2ba7-4cd6-f45f-5800d7f31e83"
      },
      "execution_count": null,
      "outputs": [
        {
          "output_type": "error",
          "ename": "NameError",
          "evalue": "ignored",
          "traceback": [
            "\u001b[0;31m---------------------------------------------------------------------------\u001b[0m",
            "\u001b[0;31mNameError\u001b[0m                                 Traceback (most recent call last)",
            "\u001b[0;32m<ipython-input-5-01f4962d978f>\u001b[0m in \u001b[0;36m<module>\u001b[0;34m()\u001b[0m\n\u001b[1;32m      1\u001b[0m \u001b[0;31m# runtime error\u001b[0m\u001b[0;34m\u001b[0m\u001b[0;34m\u001b[0m\u001b[0;34m\u001b[0m\u001b[0m\n\u001b[0;32m----> 2\u001b[0;31m \u001b[0mname\u001b[0m \u001b[0;34m=\u001b[0m \u001b[0mbrand\u001b[0m \u001b[0;34m[\u001b[0m\u001b[0;36m1\u001b[0m\u001b[0;34m]\u001b[0m\u001b[0;34m\u001b[0m\u001b[0;34m\u001b[0m\u001b[0m\n\u001b[0m",
            "\u001b[0;31mNameError\u001b[0m: name 'brand' is not defined"
          ]
        }
      ]
    },
    {
      "cell_type": "markdown",
      "source": [
        "# Error Handling Part II\n",
        "Error Handling is used to help hardware and software error and to help resume the execution when interrupted. There are several ways for us to design error handling. one of them is by using try and except. this command is capable of determine to handle the error based on the types of error. some of the example of error including:\n",
        "1. Zero by Division error\n",
        "2. File Not Found Error\n",
        "3. Key Error\n",
        "4. Value Error\n",
        "5. Type Error"
      ],
      "metadata": {
        "id": "5AUAQJ2RVrT7"
      }
    },
    {
      "cell_type": "code",
      "execution_count": null,
      "metadata": {
        "colab": {
          "base_uri": "https://localhost:8080/"
        },
        "id": "krwImWQcN7Cp",
        "outputId": "cc8ae7d4-86c7-44b8-d484-ca4f77d8fc1e"
      },
      "outputs": [
        {
          "output_type": "stream",
          "name": "stdout",
          "text": [
            "File can't be Found\n"
          ]
        }
      ],
      "source": [
        "#ERROR HANDLING WITH TUPLE for FileNotFoundError\n",
        "try:\n",
        "  with open(\"farhan.py\") as file:\n",
        "    print(file.read())\n",
        "except FileNotFoundError:\n",
        "  print(\"File can't be Found\")"
      ]
    },
    {
      "cell_type": "code",
      "source": [
        "#ZERO BY DIVISION ERROR\n",
        "a = 0 \n",
        "try:\n",
        "  division = 1/a\n",
        "  print(division)\n",
        "except ZeroDivisionError:\n",
        "  print(\"Calculation can't be processed\")"
      ],
      "metadata": {
        "colab": {
          "base_uri": "https://localhost:8080/"
        },
        "id": "g7wmBvk2R4my",
        "outputId": "86ddf92a-de38-4fc8-ccb7-fe2e45c2f7d9"
      },
      "execution_count": null,
      "outputs": [
        {
          "output_type": "stream",
          "name": "stdout",
          "text": [
            "Calculation can't be processed\n"
          ]
        }
      ]
    },
    {
      "cell_type": "code",
      "source": [
        "#OPEN FILE ERROR\n",
        "try:\n",
        "  with open(\"genre_film.ipynb\") as file:\n",
        "    print(file.read())\n",
        "except FileNotFoundError:\n",
        "  print(\"file Not Found\")"
      ],
      "metadata": {
        "colab": {
          "base_uri": "https://localhost:8080/"
        },
        "id": "VPnc7xMDONGJ",
        "outputId": "f11522c6-20bf-4e34-c8e6-01ee8dc90500"
      },
      "execution_count": null,
      "outputs": [
        {
          "output_type": "stream",
          "name": "stdout",
          "text": [
            "file Not Found\n"
          ]
        }
      ]
    },
    {
      "cell_type": "code",
      "source": [
        "try:\n",
        "  with open(\"genre_film.ipynb\") as file:\n",
        "    print(file.read())\n",
        "except (FileNotFoundError,):\n",
        "  print(\"file tidak ditemukan\")"
      ],
      "metadata": {
        "colab": {
          "base_uri": "https://localhost:8080/"
        },
        "id": "XDGf6QFBTNY0",
        "outputId": "7c68dfc8-5dd5-4eb0-f1c5-946a24fb7a2c"
      },
      "execution_count": null,
      "outputs": [
        {
          "output_type": "stream",
          "name": "stdout",
          "text": [
            "file tidak ditemukan\n"
          ]
        }
      ]
    },
    {
      "cell_type": "markdown",
      "source": [
        "value and key error usually can be found in dictionary whereas the syntax try to call the value or key but the value or key are not exists"
      ],
      "metadata": {
        "id": "BqlOOWjOXaAv"
      }
    },
    {
      "cell_type": "code",
      "source": [
        "#value and key exception\n",
        "d = {\"nama\" : \"farhan\"}\n",
        "\n",
        "try:\n",
        "  print(\"nama\",d[\"namaa\"])\n",
        "except (KeyError,):\n",
        "  print(\"No Key in the Dictionary\")\n",
        "except ValueError:\n",
        "  print(\"No Value in the Dictionary\")"
      ],
      "metadata": {
        "colab": {
          "base_uri": "https://localhost:8080/"
        },
        "id": "4-iYSku9S9kl",
        "outputId": "fc11dfc4-8727-49ff-d697-2c4f9a4e46dd"
      },
      "execution_count": null,
      "outputs": [
        {
          "output_type": "stream",
          "name": "stdout",
          "text": [
            "No Key in the Dictionary\n"
          ]
        }
      ]
    },
    {
      "cell_type": "markdown",
      "source": [
        "error can also be combined to include multiple types of error"
      ],
      "metadata": {
        "id": "IVbZZZ0BXwnZ"
      }
    },
    {
      "cell_type": "code",
      "source": [
        "#gabungan error\n",
        "d = {\"nama\" : \"farhan\"}\n",
        "\n",
        "try:\n",
        "  print(\"nama\",float(d[\"nama\"]))\n",
        "except (KeyError,):\n",
        "  print(\"No Key in the Dictionary\")\n",
        "except (ValueError,TypeError) as e:\n",
        "  print(\"No Value in the Dictionary.\",e)"
      ],
      "metadata": {
        "colab": {
          "base_uri": "https://localhost:8080/"
        },
        "id": "3PljDx6GYgKu",
        "outputId": "ba97946e-8441-43d9-f0cb-04402f591ada"
      },
      "execution_count": null,
      "outputs": [
        {
          "output_type": "stream",
          "name": "stdout",
          "text": [
            "No Value in the Dictionary. could not convert string to float: 'farhan'\n"
          ]
        }
      ]
    },
    {
      "cell_type": "markdown",
      "source": [
        "# Functions - Definition, Calling and Returning Functions"
      ],
      "metadata": {
        "id": "1FUxk-qXUIZl"
      }
    },
    {
      "cell_type": "markdown",
      "source": [
        "# FUNCTION\n",
        "\n",
        "1. In mathematics, a function is a process that relates an input and an output.\n",
        "\n",
        "2. In Python, apart from these relational functions, functions are also a way to organize code - with the ultimate goal of code reusability.\n",
        "\n",
        "3. Instead functions have only one specific use but can be reused.\n",
        "\n",
        "4. Python's common functions are provided.\n",
        "\n",
        "5. But we can always define our own function.\n",
        "\n",
        "\n",
        "\n"
      ],
      "metadata": {
        "id": "Qru7VpDd2wlD"
      }
    },
    {
      "cell_type": "markdown",
      "source": [
        "# Defining a Function\n",
        "\n",
        "1. Functions are defined with the def keyword followed by the name of the function and its parameters in brackets ().\n",
        "\n",
        "2. Optionally, you can add a docstring - a documentation string that describes the context of the function.\n",
        "\n",
        "3. The code block in each function starts with a colon and is indented.\n",
        "\n",
        "4. The function stops when there is a return [expression] statement that returns [expression] to the caller.\n",
        "\n",
        "5. You can also make the function return no output by returning None."
      ],
      "metadata": {
        "id": "z6QexKJI6MWA"
      }
    },
    {
      "cell_type": "code",
      "source": [
        "def pangkat(x):\n",
        "    kuadrat = x**2\n",
        "    return kuadrat"
      ],
      "metadata": {
        "id": "-ZMQjcr2UL39"
      },
      "execution_count": null,
      "outputs": []
    },
    {
      "cell_type": "code",
      "source": [
        "pangkat(3)"
      ],
      "metadata": {
        "colab": {
          "base_uri": "https://localhost:8080/"
        },
        "id": "bgd7h-w46gZM",
        "outputId": "94f3ef33-a5fe-4555-ca6d-c6fe6c600573"
      },
      "execution_count": null,
      "outputs": [
        {
          "output_type": "execute_result",
          "data": {
            "text/plain": [
              "9"
            ]
          },
          "metadata": {},
          "execution_count": 2
        }
      ]
    },
    {
      "cell_type": "code",
      "source": [
        "def pangkat(x):\n",
        "    kuadrat = x**2\n",
        "    print(kuadrat)"
      ],
      "metadata": {
        "id": "BVj_f_426h34"
      },
      "execution_count": null,
      "outputs": []
    },
    {
      "cell_type": "code",
      "source": [
        "pangkat(3)"
      ],
      "metadata": {
        "colab": {
          "base_uri": "https://localhost:8080/"
        },
        "id": "t8EykINg6l_D",
        "outputId": "13046429-8108-42fd-97e3-90ad188762b8"
      },
      "execution_count": null,
      "outputs": [
        {
          "output_type": "stream",
          "name": "stdout",
          "text": [
            "9\n"
          ]
        }
      ]
    },
    {
      "cell_type": "code",
      "source": [
        "def kubik(z):\n",
        "    pangkat = z**3\n",
        "    return pangkat"
      ],
      "metadata": {
        "id": "i29vg9cK6ogI"
      },
      "execution_count": null,
      "outputs": []
    },
    {
      "cell_type": "code",
      "source": [
        "kubik(3)"
      ],
      "metadata": {
        "colab": {
          "base_uri": "https://localhost:8080/"
        },
        "id": "-R_gRx3560fN",
        "outputId": "5d4e1d9c-ce40-4a29-ab6e-2acaad30eeab"
      },
      "execution_count": null,
      "outputs": [
        {
          "output_type": "execute_result",
          "data": {
            "text/plain": [
              "27"
            ]
          },
          "metadata": {},
          "execution_count": 6
        }
      ]
    },
    {
      "cell_type": "markdown",
      "source": [
        "By default, Python will position each parameter in the order in which it was registered when it was defined, and must be called in that order."
      ],
      "metadata": {
        "id": "fSCkH4lp62L4"
      }
    },
    {
      "cell_type": "code",
      "source": [
        "def nama(a):\n",
        "    halo = \"Hai {}\".format(a)\n",
        "    return halo"
      ],
      "metadata": {
        "id": "tRpxDljW67at"
      },
      "execution_count": null,
      "outputs": []
    },
    {
      "cell_type": "code",
      "source": [
        "nama(\"Rifki\")"
      ],
      "metadata": {
        "colab": {
          "base_uri": "https://localhost:8080/",
          "height": 34
        },
        "id": "dpePptNQ6_tw",
        "outputId": "4946126b-1362-4eec-c7fe-2efc0838739b"
      },
      "execution_count": null,
      "outputs": [
        {
          "output_type": "execute_result",
          "data": {
            "text/plain": [
              "'Hai Rifki'"
            ],
            "application/vnd.google.colaboratory.intrinsic+json": {
              "type": "string"
            }
          },
          "metadata": {},
          "execution_count": 8
        }
      ]
    },
    {
      "cell_type": "markdown",
      "source": [
        "#Return\n",
        "\n",
        "The return [expression] statement will make program execution exit the current function, while returning a specified value."
      ],
      "metadata": {
        "id": "8HI0HfcK7G3P"
      }
    },
    {
      "cell_type": "code",
      "source": [
        "def tambah(x,y):\n",
        "    plus = x + y #fungsi penjumlahan\n",
        "    print(\"Hasil penjumlahan adalah {}\".format(plus))\n",
        "    return plus"
      ],
      "metadata": {
        "id": "5uQScVV87Jeh"
      },
      "execution_count": null,
      "outputs": []
    },
    {
      "cell_type": "code",
      "source": [
        "tambah(2,3)"
      ],
      "metadata": {
        "colab": {
          "base_uri": "https://localhost:8080/"
        },
        "id": "PnwWC9007PZR",
        "outputId": "eb535a84-cf76-43eb-867a-53a6ef10a8e7"
      },
      "execution_count": null,
      "outputs": [
        {
          "output_type": "stream",
          "name": "stdout",
          "text": [
            "Hasil penjumlahan adalah 5\n"
          ]
        },
        {
          "output_type": "execute_result",
          "data": {
            "text/plain": [
              "5"
            ]
          },
          "metadata": {},
          "execution_count": 10
        }
      ]
    },
    {
      "cell_type": "code",
      "source": [
        "output = tambah(2,3)\n",
        "print(\"Hasil dari return adalah {}\".format(output))"
      ],
      "metadata": {
        "colab": {
          "base_uri": "https://localhost:8080/"
        },
        "id": "4Pz1QNFK7Ss_",
        "outputId": "0de44e50-8733-4827-8e76-b93265d6ebe1"
      },
      "execution_count": null,
      "outputs": [
        {
          "output_type": "stream",
          "name": "stdout",
          "text": [
            "Hasil penjumlahan adalah 5\n",
            "Hasil dari return adalah 5\n"
          ]
        }
      ]
    },
    {
      "cell_type": "markdown",
      "source": [
        "1. The return value of a function can be stored in a variable.\n",
        "\n",
        "2. This is what will distinguish a function that returns a value from a function that does not return a value (often referred to as a procedure)."
      ],
      "metadata": {
        "id": "qGUxuet-7c5f"
      }
    },
    {
      "cell_type": "code",
      "source": [
        "def kali(c):\n",
        "    kuadrat = c**2\n",
        "    return kuadrat"
      ],
      "metadata": {
        "id": "1o6_-54u7e6N"
      },
      "execution_count": null,
      "outputs": []
    },
    {
      "cell_type": "code",
      "source": [
        "kali(4)"
      ],
      "metadata": {
        "colab": {
          "base_uri": "https://localhost:8080/"
        },
        "id": "whLwamLf7h-2",
        "outputId": "380b13e7-dbc9-4e47-c065-b3872eaca1eb"
      },
      "execution_count": null,
      "outputs": [
        {
          "output_type": "execute_result",
          "data": {
            "text/plain": [
              "16"
            ]
          },
          "metadata": {},
          "execution_count": 13
        }
      ]
    },
    {
      "cell_type": "code",
      "source": [
        "angka = int(input().strip())\n",
        "hasil = kali(angka)\n",
        "print(\"hasilnya adalah {}\".format(hasil))"
      ],
      "metadata": {
        "colab": {
          "base_uri": "https://localhost:8080/"
        },
        "id": "ohq3iDdW7m-j",
        "outputId": "c2be46b4-821a-4b47-c7a1-af2d36d1e632"
      },
      "execution_count": null,
      "outputs": [
        {
          "output_type": "stream",
          "name": "stdout",
          "text": [
            "4\n",
            "hasilnya adalah 16\n"
          ]
        }
      ]
    },
    {
      "cell_type": "code",
      "source": [
        "print(\"Hasil kuadrat dari {} adalah {}\".format(angka, hasil))"
      ],
      "metadata": {
        "colab": {
          "base_uri": "https://localhost:8080/"
        },
        "id": "8xnrEzew7sdB",
        "outputId": "649eb562-68bb-42ca-b9cf-48b4639d17d4"
      },
      "execution_count": null,
      "outputs": [
        {
          "output_type": "stream",
          "name": "stdout",
          "text": [
            "Hasil kuadrat dari 4 adalah 16\n"
          ]
        }
      ]
    },
    {
      "cell_type": "markdown",
      "source": [
        "#Pass by reference vs value\n",
        "\n",
        "1. All parameters (arguments) in Python are \"passed by reference\". This means that when we change a variable, the data that refers to it will also change, both inside the function and outside the calling function.\n",
        "\n",
        "2. Unless we do an assignment operation that will change the reference parameter."
      ],
      "metadata": {
        "id": "xvu2cwKI7_vU"
      }
    },
    {
      "cell_type": "code",
      "source": [
        "def rubah(dalam_list):\n",
        "    dalam_list = [3,4]  # in local must be changed here\n",
        "    print(\"Nilai dalam fungsi adalah {}\".format(dalam_list))"
      ],
      "metadata": {
        "id": "Fzc7B-ou8D5-"
      },
      "execution_count": null,
      "outputs": []
    },
    {
      "cell_type": "code",
      "source": [
        "dalam_list = [5,6]\n",
        "rubah(dalam_list)  # in global can't change in local\n",
        "print(\"Nilai di luar fungsi adalah {}\".format(dalam_list))"
      ],
      "metadata": {
        "colab": {
          "base_uri": "https://localhost:8080/"
        },
        "id": "kyFr3VvR8IyF",
        "outputId": "177c7f9c-a2cb-4514-ff04-15d2f8ca8f0f"
      },
      "execution_count": null,
      "outputs": [
        {
          "output_type": "stream",
          "name": "stdout",
          "text": [
            "Nilai dalam fungsi adalah [3, 4]\n",
            "Nilai di luar fungsi adalah [5, 6]\n"
          ]
        }
      ]
    },
    {
      "cell_type": "markdown",
      "source": [
        "# Function Arguments and Parameters\n",
        "\n",
        "1. Parameter is the definition of the input the function accepts\n",
        "\n",
        "2. Arguments are what we put in when we call the function"
      ],
      "metadata": {
        "id": "fw3wA1AL8lDf"
      }
    },
    {
      "cell_type": "code",
      "source": [
        "def pangkat(x):\n",
        "    kuadrat = x**2\n",
        "    return kuadrat"
      ],
      "metadata": {
        "id": "NcB9VDps8tUy"
      },
      "execution_count": null,
      "outputs": []
    },
    {
      "cell_type": "markdown",
      "source": [
        "x is a parameter\n",
        "\n",
        "However we call it the power(3) then 3 is the argument"
      ],
      "metadata": {
        "id": "TlRS8-Ac8wFD"
      }
    }
  ]
}